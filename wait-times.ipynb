{
 "cells": [
  {
   "cell_type": "code",
   "execution_count": 45,
   "metadata": {},
   "outputs": [
    {
     "name": "stdout",
     "output_type": "stream",
     "text": [
      "Requirement already satisfied: matplotlib in c:\\users\\carlk\\onedrive\\programs\\wait-times\\.conda\\lib\\site-packages (3.8.2)\n",
      "Requirement already satisfied: scipy in c:\\users\\carlk\\onedrive\\programs\\wait-times\\.conda\\lib\\site-packages (1.12.0)\n",
      "Requirement already satisfied: pandas in c:\\users\\carlk\\onedrive\\programs\\wait-times\\.conda\\lib\\site-packages (2.2.0)\n",
      "Requirement already satisfied: pyarrow in c:\\users\\carlk\\onedrive\\programs\\wait-times\\.conda\\lib\\site-packages (15.0.0)\n",
      "Requirement already satisfied: Jinja2 in c:\\users\\carlk\\onedrive\\programs\\wait-times\\.conda\\lib\\site-packages (3.1.3)\n",
      "Requirement already satisfied: contourpy>=1.0.1 in c:\\users\\carlk\\onedrive\\programs\\wait-times\\.conda\\lib\\site-packages (from matplotlib) (1.2.0)\n",
      "Requirement already satisfied: cycler>=0.10 in c:\\users\\carlk\\onedrive\\programs\\wait-times\\.conda\\lib\\site-packages (from matplotlib) (0.12.1)\n",
      "Requirement already satisfied: fonttools>=4.22.0 in c:\\users\\carlk\\onedrive\\programs\\wait-times\\.conda\\lib\\site-packages (from matplotlib) (4.48.1)\n",
      "Requirement already satisfied: kiwisolver>=1.3.1 in c:\\users\\carlk\\onedrive\\programs\\wait-times\\.conda\\lib\\site-packages (from matplotlib) (1.4.5)\n",
      "Requirement already satisfied: numpy<2,>=1.21 in c:\\users\\carlk\\onedrive\\programs\\wait-times\\.conda\\lib\\site-packages (from matplotlib) (1.26.4)\n",
      "Requirement already satisfied: packaging>=20.0 in c:\\users\\carlk\\onedrive\\programs\\wait-times\\.conda\\lib\\site-packages (from matplotlib) (23.2)\n",
      "Requirement already satisfied: pillow>=8 in c:\\users\\carlk\\onedrive\\programs\\wait-times\\.conda\\lib\\site-packages (from matplotlib) (10.2.0)\n",
      "Requirement already satisfied: pyparsing>=2.3.1 in c:\\users\\carlk\\onedrive\\programs\\wait-times\\.conda\\lib\\site-packages (from matplotlib) (3.1.1)\n",
      "Requirement already satisfied: python-dateutil>=2.7 in c:\\users\\carlk\\onedrive\\programs\\wait-times\\.conda\\lib\\site-packages (from matplotlib) (2.8.2)\n",
      "Requirement already satisfied: pytz>=2020.1 in c:\\users\\carlk\\onedrive\\programs\\wait-times\\.conda\\lib\\site-packages (from pandas) (2024.1)\n",
      "Requirement already satisfied: tzdata>=2022.7 in c:\\users\\carlk\\onedrive\\programs\\wait-times\\.conda\\lib\\site-packages (from pandas) (2023.4)\n",
      "Requirement already satisfied: MarkupSafe>=2.0 in c:\\users\\carlk\\onedrive\\programs\\wait-times\\.conda\\lib\\site-packages (from Jinja2) (2.1.5)\n",
      "Requirement already satisfied: six>=1.5 in c:\\users\\carlk\\onedrive\\programs\\wait-times\\.conda\\lib\\site-packages (from python-dateutil>=2.7->matplotlib) (1.16.0)\n",
      "Note: you may need to restart the kernel to use updated packages.\n"
     ]
    }
   ],
   "source": [
    "%pip install matplotlib scipy pandas pyarrow Jinja2"
   ]
  },
  {
   "cell_type": "code",
   "execution_count": 46,
   "metadata": {},
   "outputs": [
    {
     "data": {
      "text/html": [
       "<div>\n",
       "<style scoped>\n",
       "    .dataframe tbody tr th:only-of-type {\n",
       "        vertical-align: middle;\n",
       "    }\n",
       "\n",
       "    .dataframe tbody tr th {\n",
       "        vertical-align: top;\n",
       "    }\n",
       "\n",
       "    .dataframe thead th {\n",
       "        text-align: right;\n",
       "    }\n",
       "</style>\n",
       "<table border=\"1\" class=\"dataframe\">\n",
       "  <thead>\n",
       "    <tr style=\"text-align: right;\">\n",
       "      <th></th>\n",
       "      <th>Title</th>\n",
       "      <th>Edit DateTime</th>\n",
       "      <th>Time Delta</th>\n",
       "    </tr>\n",
       "  </thead>\n",
       "  <tbody>\n",
       "    <tr>\n",
       "      <th>31252</th>\n",
       "      <td>%C3%96nd%C3%B6r_Gongor</td>\n",
       "      <td>2008-01-27 15:13:00</td>\n",
       "      <td>NaT</td>\n",
       "    </tr>\n",
       "    <tr>\n",
       "      <th>31250</th>\n",
       "      <td>%C3%96nd%C3%B6r_Gongor</td>\n",
       "      <td>2008-01-27 15:29:00</td>\n",
       "      <td>0 days 00:16:00</td>\n",
       "    </tr>\n",
       "    <tr>\n",
       "      <th>31251</th>\n",
       "      <td>%C3%96nd%C3%B6r_Gongor</td>\n",
       "      <td>2008-01-27 15:29:00</td>\n",
       "      <td>0 days 00:00:00</td>\n",
       "    </tr>\n",
       "    <tr>\n",
       "      <th>31249</th>\n",
       "      <td>%C3%96nd%C3%B6r_Gongor</td>\n",
       "      <td>2008-01-29 13:24:00</td>\n",
       "      <td>1 days 21:55:00</td>\n",
       "    </tr>\n",
       "    <tr>\n",
       "      <th>31248</th>\n",
       "      <td>%C3%96nd%C3%B6r_Gongor</td>\n",
       "      <td>2008-01-29 13:25:00</td>\n",
       "      <td>0 days 00:01:00</td>\n",
       "    </tr>\n",
       "  </tbody>\n",
       "</table>\n",
       "</div>"
      ],
      "text/plain": [
       "                        Title       Edit DateTime      Time Delta\n",
       "31252  %C3%96nd%C3%B6r_Gongor 2008-01-27 15:13:00             NaT\n",
       "31250  %C3%96nd%C3%B6r_Gongor 2008-01-27 15:29:00 0 days 00:16:00\n",
       "31251  %C3%96nd%C3%B6r_Gongor 2008-01-27 15:29:00 0 days 00:00:00\n",
       "31249  %C3%96nd%C3%B6r_Gongor 2008-01-29 13:24:00 1 days 21:55:00\n",
       "31248  %C3%96nd%C3%B6r_Gongor 2008-01-29 13:25:00 0 days 00:01:00"
      ]
     },
     "execution_count": 46,
     "metadata": {},
     "output_type": "execute_result"
    }
   ],
   "source": [
    "\n",
    "import pandas as pd\n",
    "\n",
    "wiki_df = pd.read_csv(\"edit_history.txt\", sep='\\t', header=None, names=[\"Title\", \"Edit DateTime\", \"Probe DateTime\"], usecols=[\"Title\", \"Edit DateTime\"])\n",
    "wiki_df['Edit DateTime'] = pd.to_datetime(wiki_df['Edit DateTime']) # text to datetime\n",
    "# Sort the DataFrame by 'Title' and 'Edit DateTime' to ensure the deltas are calculated correctly\n",
    "wiki_df.sort_values(by=['Title', 'Edit DateTime'], inplace=True)\n",
    "# Calculate the time deltas for consecutive edits within the same title\n",
    "wiki_df['Time Delta'] = wiki_df.groupby('Title')['Edit DateTime'].diff()\n",
    "wiki_df.head()"
   ]
  },
  {
   "cell_type": "code",
   "execution_count": 47,
   "metadata": {},
   "outputs": [
    {
     "data": {
      "text/html": [
       "<div>\n",
       "<style scoped>\n",
       "    .dataframe tbody tr th:only-of-type {\n",
       "        vertical-align: middle;\n",
       "    }\n",
       "\n",
       "    .dataframe tbody tr th {\n",
       "        vertical-align: top;\n",
       "    }\n",
       "\n",
       "    .dataframe thead th {\n",
       "        text-align: right;\n",
       "    }\n",
       "</style>\n",
       "<table border=\"1\" class=\"dataframe\">\n",
       "  <thead>\n",
       "    <tr style=\"text-align: right;\">\n",
       "      <th></th>\n",
       "      <th>Title</th>\n",
       "      <th>Edit DateTime</th>\n",
       "      <th>Time Delta</th>\n",
       "    </tr>\n",
       "  </thead>\n",
       "  <tbody>\n",
       "    <tr>\n",
       "      <th>0</th>\n",
       "      <td>Kentucky_Wildcats</td>\n",
       "      <td>2023-03-31 01:54:00</td>\n",
       "      <td>0 days 00:00:00</td>\n",
       "    </tr>\n",
       "    <tr>\n",
       "      <th>1</th>\n",
       "      <td>Berlin_Half_Marathon</td>\n",
       "      <td>2022-11-25 10:47:00</td>\n",
       "      <td>0 days 00:00:00</td>\n",
       "    </tr>\n",
       "    <tr>\n",
       "      <th>2</th>\n",
       "      <td>2020_South_Carolina_Senate_election</td>\n",
       "      <td>2020-11-05 03:29:00</td>\n",
       "      <td>0 days 00:00:00</td>\n",
       "    </tr>\n",
       "    <tr>\n",
       "      <th>3</th>\n",
       "      <td>2020_South_Carolina_Senate_election</td>\n",
       "      <td>2020-11-05 03:28:00</td>\n",
       "      <td>0 days 00:00:00</td>\n",
       "    </tr>\n",
       "    <tr>\n",
       "      <th>4</th>\n",
       "      <td>2020_South_Carolina_Senate_election</td>\n",
       "      <td>2020-11-05 03:28:00</td>\n",
       "      <td>0 days 00:00:00</td>\n",
       "    </tr>\n",
       "    <tr>\n",
       "      <th>...</th>\n",
       "      <td>...</td>\n",
       "      <td>...</td>\n",
       "      <td>...</td>\n",
       "    </tr>\n",
       "    <tr>\n",
       "      <th>36315</th>\n",
       "      <td>Von_Essen_Mountain</td>\n",
       "      <td>2022-02-26 04:49:00</td>\n",
       "      <td>3575 days 12:47:00</td>\n",
       "    </tr>\n",
       "    <tr>\n",
       "      <th>36316</th>\n",
       "      <td>Pete_Budd</td>\n",
       "      <td>2021-06-21 16:33:00</td>\n",
       "      <td>4693 days 19:43:00</td>\n",
       "    </tr>\n",
       "    <tr>\n",
       "      <th>36317</th>\n",
       "      <td>WNBA_on_NBC</td>\n",
       "      <td>2022-06-05 08:44:00</td>\n",
       "      <td>4719 days 09:21:00</td>\n",
       "    </tr>\n",
       "    <tr>\n",
       "      <th>36318</th>\n",
       "      <td>Ardskenish</td>\n",
       "      <td>2021-09-01 04:26:00</td>\n",
       "      <td>4797 days 11:18:00</td>\n",
       "    </tr>\n",
       "    <tr>\n",
       "      <th>36319</th>\n",
       "      <td>The_Rotunda_(Longwood_University)</td>\n",
       "      <td>2021-09-16 13:32:00</td>\n",
       "      <td>4810 days 17:39:00</td>\n",
       "    </tr>\n",
       "  </tbody>\n",
       "</table>\n",
       "<p>36320 rows × 3 columns</p>\n",
       "</div>"
      ],
      "text/plain": [
       "                                     Title       Edit DateTime  \\\n",
       "0                        Kentucky_Wildcats 2023-03-31 01:54:00   \n",
       "1                     Berlin_Half_Marathon 2022-11-25 10:47:00   \n",
       "2      2020_South_Carolina_Senate_election 2020-11-05 03:29:00   \n",
       "3      2020_South_Carolina_Senate_election 2020-11-05 03:28:00   \n",
       "4      2020_South_Carolina_Senate_election 2020-11-05 03:28:00   \n",
       "...                                    ...                 ...   \n",
       "36315                   Von_Essen_Mountain 2022-02-26 04:49:00   \n",
       "36316                            Pete_Budd 2021-06-21 16:33:00   \n",
       "36317                          WNBA_on_NBC 2022-06-05 08:44:00   \n",
       "36318                           Ardskenish 2021-09-01 04:26:00   \n",
       "36319    The_Rotunda_(Longwood_University) 2021-09-16 13:32:00   \n",
       "\n",
       "              Time Delta  \n",
       "0        0 days 00:00:00  \n",
       "1        0 days 00:00:00  \n",
       "2        0 days 00:00:00  \n",
       "3        0 days 00:00:00  \n",
       "4        0 days 00:00:00  \n",
       "...                  ...  \n",
       "36315 3575 days 12:47:00  \n",
       "36316 4693 days 19:43:00  \n",
       "36317 4719 days 09:21:00  \n",
       "36318 4797 days 11:18:00  \n",
       "36319 4810 days 17:39:00  \n",
       "\n",
       "[36320 rows x 3 columns]"
      ]
     },
     "metadata": {},
     "output_type": "display_data"
    },
    {
     "data": {
      "text/plain": [
       "count                          36320\n",
       "mean      92 days 13:46:11.116189427\n",
       "std      195 days 11:36:52.016155110\n",
       "min                  0 days 00:00:00\n",
       "25%                  0 days 00:27:00\n",
       "50%                 15 days 05:41:00\n",
       "75%                100 days 21:45:45\n",
       "max               4810 days 17:39:00\n",
       "Name: Time Delta, dtype: object"
      ]
     },
     "execution_count": 47,
     "metadata": {},
     "output_type": "execute_result"
    }
   ],
   "source": [
    "# Remove rows with not-a-time (NaT) values in the 'Time Delta' column\n",
    "wiki_df.dropna(subset=['Time Delta'], inplace=True)\n",
    "# Sort by time delta and reset the index\n",
    "wiki_df.sort_values(by='Time Delta', inplace=True)\n",
    "wiki_df.reset_index(drop=True, inplace=True)\n",
    "display(wiki_df)\n",
    "wiki_df['Time Delta'].describe()\n"
   ]
  },
  {
   "cell_type": "code",
   "execution_count": 48,
   "metadata": {},
   "outputs": [
    {
     "data": {
      "text/plain": [
       "'1m 40s'"
      ]
     },
     "execution_count": 48,
     "metadata": {},
     "output_type": "execute_result"
    }
   ],
   "source": [
    "def seconds_to_text(seconds):\n",
    "    seconds = round(seconds)\n",
    "    result = []\n",
    "    for unit_name, unit_seconds in [('y', 86400 * 365.25),('d', 86400),('h', 3600),('m', 60),('s', 1)]:\n",
    "        if seconds >= unit_seconds:\n",
    "            unit_value, seconds = divmod(seconds, unit_seconds)\n",
    "            result.append(f\"{int(unit_value)}{unit_name}\")\n",
    "    return ' '.join(result) if result else \"<1s\"\n",
    "\n",
    "seconds_to_text(100)"
   ]
  },
  {
   "cell_type": "code",
   "execution_count": 49,
   "metadata": {},
   "outputs": [
    {
     "data": {
      "text/html": [
       "<style type=\"text/css\">\n",
       "</style>\n",
       "<table id=\"T_5e961\">\n",
       "  <thead>\n",
       "    <tr>\n",
       "      <th id=\"T_5e961_level0_col0\" class=\"col_heading level0 col0\" >Wait So Far</th>\n",
       "      <th id=\"T_5e961_level0_col1\" class=\"col_heading level0 col1\" >Median Additional Wait</th>\n",
       "    </tr>\n",
       "  </thead>\n",
       "  <tbody>\n",
       "    <tr>\n",
       "      <td id=\"T_5e961_row0_col0\" class=\"data row0 col0\" ><1s</td>\n",
       "      <td id=\"T_5e961_row0_col1\" class=\"data row0 col1\" >15d 5h 41m</td>\n",
       "    </tr>\n",
       "    <tr>\n",
       "      <td id=\"T_5e961_row1_col0\" class=\"data row1 col0\" >1m</td>\n",
       "      <td id=\"T_5e961_row1_col1\" class=\"data row1 col1\" >19d 38m</td>\n",
       "    </tr>\n",
       "    <tr>\n",
       "      <td id=\"T_5e961_row2_col0\" class=\"data row2 col0\" >5m</td>\n",
       "      <td id=\"T_5e961_row2_col1\" class=\"data row2 col1\" >34d 16h 31m</td>\n",
       "    </tr>\n",
       "    <tr>\n",
       "      <td id=\"T_5e961_row3_col0\" class=\"data row3 col0\" >15m</td>\n",
       "      <td id=\"T_5e961_row3_col1\" class=\"data row3 col1\" >41d 12h 41m</td>\n",
       "    </tr>\n",
       "    <tr>\n",
       "      <td id=\"T_5e961_row4_col0\" class=\"data row4 col0\" >1h</td>\n",
       "      <td id=\"T_5e961_row4_col1\" class=\"data row4 col1\" >47d 4h 52m</td>\n",
       "    </tr>\n",
       "    <tr>\n",
       "      <td id=\"T_5e961_row5_col0\" class=\"data row5 col0\" >4h</td>\n",
       "      <td id=\"T_5e961_row5_col1\" class=\"data row5 col1\" >52d 14h 31m</td>\n",
       "    </tr>\n",
       "    <tr>\n",
       "      <td id=\"T_5e961_row6_col0\" class=\"data row6 col0\" >1d</td>\n",
       "      <td id=\"T_5e961_row6_col1\" class=\"data row6 col1\" >61d 7h 41m</td>\n",
       "    </tr>\n",
       "    <tr>\n",
       "      <td id=\"T_5e961_row7_col0\" class=\"data row7 col0\" >7d</td>\n",
       "      <td id=\"T_5e961_row7_col1\" class=\"data row7 col1\" >76d 4h 8m</td>\n",
       "    </tr>\n",
       "    <tr>\n",
       "      <td id=\"T_5e961_row8_col0\" class=\"data row8 col0\" >30d</td>\n",
       "      <td id=\"T_5e961_row8_col1\" class=\"data row8 col1\" >95d 10h 10m</td>\n",
       "    </tr>\n",
       "    <tr>\n",
       "      <td id=\"T_5e961_row9_col0\" class=\"data row9 col0\" >100d</td>\n",
       "      <td id=\"T_5e961_row9_col1\" class=\"data row9 col1\" >122d 4h 18m</td>\n",
       "    </tr>\n",
       "    <tr>\n",
       "      <td id=\"T_5e961_row10_col0\" class=\"data row10 col0\" >1y</td>\n",
       "      <td id=\"T_5e961_row10_col1\" class=\"data row10 col1\" >180d 14h 33m 30s</td>\n",
       "    </tr>\n",
       "    <tr>\n",
       "      <td id=\"T_5e961_row11_col0\" class=\"data row11 col0\" >5y</td>\n",
       "      <td id=\"T_5e961_row11_col1\" class=\"data row11 col1\" >1y 77d 16h 15m 30s</td>\n",
       "    </tr>\n",
       "    <tr>\n",
       "      <td id=\"T_5e961_row12_col0\" class=\"data row12 col0\" >10y</td>\n",
       "      <td id=\"T_5e961_row12_col1\" class=\"data row12 col1\" >3y 10d 4h 19m 30s</td>\n",
       "    </tr>\n",
       "  </tbody>\n",
       "</table>\n"
      ],
      "text/plain": [
       "<pandas.io.formats.style.Styler at 0x157cdbfee50>"
      ]
     },
     "execution_count": 49,
     "metadata": {},
     "output_type": "execute_result"
    }
   ],
   "source": [
    "\n",
    "import numpy as np\n",
    "\n",
    "def wait_wait_table(df, wait_ticks):\n",
    "    sorted_time_deltas_seconds = df['Time Delta'].dt.total_seconds()\n",
    "    results = []\n",
    "    for wait_tick in wait_ticks:\n",
    "        greater_or_equal_values = sorted_time_deltas_seconds[sorted_time_deltas_seconds >= wait_tick]\n",
    "        if len(greater_or_equal_values) == 0:\n",
    "            continue\n",
    "        median_wait = np.median(greater_or_equal_values)\n",
    "        additional_wait = median_wait - wait_tick\n",
    "        results.append({\"Wait So Far\": seconds_to_text(wait_tick), \"Median Additional Wait\": seconds_to_text(additional_wait)})\n",
    "    return pd.DataFrame(results)\n",
    "\n",
    "wiki_wait_ticks = [0, 60, 60*5, 60*15, 3600, 3600*4, 86400, 86400 * 7,86400 * 30, 86400 * 100, 86400 * 365.25, 86400 * 365.25 * 5, 86400 * 365.25 * 10]\n",
    "wait_tick_labels = [seconds_to_text(wait_tick) for wait_tick in wiki_wait_ticks]\n",
    "wait_wait_table(wiki_df, wiki_wait_ticks).style.hide(axis=\"index\")"
   ]
  },
  {
   "cell_type": "code",
   "execution_count": 50,
   "metadata": {},
   "outputs": [
    {
     "name": "stdout",
     "output_type": "stream",
     "text": [
      "                      Time Delta\n",
      "count                      30000\n",
      "mean   0 days 00:05:00.060355606\n",
      "std    0 days 00:00:14.956424467\n",
      "min    0 days 00:03:52.588244397\n",
      "25%    0 days 00:04:50.011437922\n",
      "50%    0 days 00:04:59.971380399\n",
      "75%    0 days 00:05:10.239357827\n",
      "max    0 days 00:05:59.183245298\n"
     ]
    }
   ],
   "source": [
    "seed = 0\n",
    "rng = np.random.default_rng(seed)\n",
    "sorted_popcorn_time_deltas = np.sort(rng.normal(5*60, 15, 30_000))\n",
    "popcorn_df = pd.DataFrame(pd.to_timedelta(sorted_popcorn_time_deltas,unit=\"s\"), columns=[\"Time Delta\"])\n",
    "print(popcorn_df.describe())"
   ]
  },
  {
   "cell_type": "code",
   "execution_count": 51,
   "metadata": {},
   "outputs": [
    {
     "data": {
      "text/html": [
       "<style type=\"text/css\">\n",
       "</style>\n",
       "<table id=\"T_466ac\">\n",
       "  <thead>\n",
       "    <tr>\n",
       "      <th id=\"T_466ac_level0_col0\" class=\"col_heading level0 col0\" >Wait So Far</th>\n",
       "      <th id=\"T_466ac_level0_col1\" class=\"col_heading level0 col1\" >Median Additional Wait</th>\n",
       "    </tr>\n",
       "  </thead>\n",
       "  <tbody>\n",
       "    <tr>\n",
       "      <td id=\"T_466ac_row0_col0\" class=\"data row0 col0\" ><1s</td>\n",
       "      <td id=\"T_466ac_row0_col1\" class=\"data row0 col1\" >5m</td>\n",
       "    </tr>\n",
       "    <tr>\n",
       "      <td id=\"T_466ac_row1_col0\" class=\"data row1 col0\" >10s</td>\n",
       "      <td id=\"T_466ac_row1_col1\" class=\"data row1 col1\" >4m 50s</td>\n",
       "    </tr>\n",
       "    <tr>\n",
       "      <td id=\"T_466ac_row2_col0\" class=\"data row2 col0\" >30s</td>\n",
       "      <td id=\"T_466ac_row2_col1\" class=\"data row2 col1\" >4m 30s</td>\n",
       "    </tr>\n",
       "    <tr>\n",
       "      <td id=\"T_466ac_row3_col0\" class=\"data row3 col0\" >1m</td>\n",
       "      <td id=\"T_466ac_row3_col1\" class=\"data row3 col1\" >4m</td>\n",
       "    </tr>\n",
       "    <tr>\n",
       "      <td id=\"T_466ac_row4_col0\" class=\"data row4 col0\" >2m</td>\n",
       "      <td id=\"T_466ac_row4_col1\" class=\"data row4 col1\" >3m</td>\n",
       "    </tr>\n",
       "    <tr>\n",
       "      <td id=\"T_466ac_row5_col0\" class=\"data row5 col0\" >3m</td>\n",
       "      <td id=\"T_466ac_row5_col1\" class=\"data row5 col1\" >2m</td>\n",
       "    </tr>\n",
       "    <tr>\n",
       "      <td id=\"T_466ac_row6_col0\" class=\"data row6 col0\" >4m</td>\n",
       "      <td id=\"T_466ac_row6_col1\" class=\"data row6 col1\" >1m</td>\n",
       "    </tr>\n",
       "    <tr>\n",
       "      <td id=\"T_466ac_row7_col0\" class=\"data row7 col0\" >5m</td>\n",
       "      <td id=\"T_466ac_row7_col1\" class=\"data row7 col1\" >10s</td>\n",
       "    </tr>\n",
       "  </tbody>\n",
       "</table>\n"
      ],
      "text/plain": [
       "<pandas.io.formats.style.Styler at 0x157d620a410>"
      ]
     },
     "execution_count": 51,
     "metadata": {},
     "output_type": "execute_result"
    }
   ],
   "source": [
    "\n",
    "popcorn_ticks = [0, 10, 30, 60, 2*60, 3*60, 4*60, 5*60, 6*60, 7*60]\n",
    "wait_wait_table(popcorn_df, popcorn_ticks).style.hide(axis=\"index\")"
   ]
  },
  {
   "cell_type": "code",
   "execution_count": 52,
   "metadata": {},
   "outputs": [
    {
     "name": "stdout",
     "output_type": "stream",
     "text": [
      "                        Time Delta\n",
      "count                        36773\n",
      "mean   190 days 08:21:00.141951976\n",
      "std    185 days 22:42:41.462765808\n",
      "min                7 days 00:00:00\n",
      "25%               56 days 00:00:00\n",
      "50%              133 days 00:00:00\n",
      "75%              259 days 00:00:00\n",
      "max             2429 days 00:00:00\n"
     ]
    }
   ],
   "source": [
    "seed = 0\n",
    "rng = np.random.default_rng(seed)\n",
    "last_win_week = None\n",
    "lotto_waits = []\n",
    "for week in range(1_000_000):\n",
    "    if rng.uniform(high=27.1) < 1.0:\n",
    "        if last_win_week is not None:\n",
    "            wait_seconds = (week - last_win_week) * 7 * 24 * 60 * 60\n",
    "            lotto_waits.append(wait_seconds)\n",
    "        last_win_week = week\n",
    "sorted_lotto_waits = np.sort(np.array(lotto_waits))\n",
    "lotto_df = pd.DataFrame(pd.to_timedelta(sorted_lotto_waits, unit=\"s\"), columns=[\"Time Delta\"])\n",
    "print(lotto_df.describe())"
   ]
  },
  {
   "cell_type": "code",
   "execution_count": 53,
   "metadata": {},
   "outputs": [
    {
     "data": {
      "text/html": [
       "<style type=\"text/css\">\n",
       "</style>\n",
       "<table id=\"T_c301b\">\n",
       "  <thead>\n",
       "    <tr>\n",
       "      <th id=\"T_c301b_level0_col0\" class=\"col_heading level0 col0\" >Wait So Far</th>\n",
       "      <th id=\"T_c301b_level0_col1\" class=\"col_heading level0 col1\" >Median Additional Wait</th>\n",
       "    </tr>\n",
       "  </thead>\n",
       "  <tbody>\n",
       "    <tr>\n",
       "      <td id=\"T_c301b_row0_col0\" class=\"data row0 col0\" ><1s</td>\n",
       "      <td id=\"T_c301b_row0_col1\" class=\"data row0 col1\" >133d</td>\n",
       "    </tr>\n",
       "    <tr>\n",
       "      <td id=\"T_c301b_row1_col0\" class=\"data row1 col0\" >7d</td>\n",
       "      <td id=\"T_c301b_row1_col1\" class=\"data row1 col1\" >126d</td>\n",
       "    </tr>\n",
       "    <tr>\n",
       "      <td id=\"T_c301b_row2_col0\" class=\"data row2 col0\" >7d 1s</td>\n",
       "      <td id=\"T_c301b_row2_col1\" class=\"data row2 col1\" >132d 23h 59m 59s</td>\n",
       "    </tr>\n",
       "    <tr>\n",
       "      <td id=\"T_c301b_row3_col0\" class=\"data row3 col0\" >14d</td>\n",
       "      <td id=\"T_c301b_row3_col1\" class=\"data row3 col1\" >126d</td>\n",
       "    </tr>\n",
       "    <tr>\n",
       "      <td id=\"T_c301b_row4_col0\" class=\"data row4 col0\" >28d</td>\n",
       "      <td id=\"T_c301b_row4_col1\" class=\"data row4 col1\" >126d</td>\n",
       "    </tr>\n",
       "    <tr>\n",
       "      <td id=\"T_c301b_row5_col0\" class=\"data row5 col0\" >183d</td>\n",
       "      <td id=\"T_c301b_row5_col1\" class=\"data row5 col1\" >132d</td>\n",
       "    </tr>\n",
       "    <tr>\n",
       "      <td id=\"T_c301b_row6_col0\" class=\"data row6 col0\" >1y</td>\n",
       "      <td id=\"T_c301b_row6_col1\" class=\"data row6 col1\" >131d 18h</td>\n",
       "    </tr>\n",
       "    <tr>\n",
       "      <td id=\"T_c301b_row7_col0\" class=\"data row7 col0\" >2y</td>\n",
       "      <td id=\"T_c301b_row7_col1\" class=\"data row7 col1\" >130d 12h</td>\n",
       "    </tr>\n",
       "    <tr>\n",
       "      <td id=\"T_c301b_row8_col0\" class=\"data row8 col0\" >5y</td>\n",
       "      <td id=\"T_c301b_row8_col1\" class=\"data row8 col1\" >49d 18h</td>\n",
       "    </tr>\n",
       "  </tbody>\n",
       "</table>\n"
      ],
      "text/plain": [
       "<pandas.io.formats.style.Styler at 0x157d5901390>"
      ]
     },
     "execution_count": 53,
     "metadata": {},
     "output_type": "execute_result"
    }
   ],
   "source": [
    "\n",
    "lotto_days = [0, 7, 7.00001,  2*7, 4*7, 183, 365.25, 2*365.25, 5*365.25]\n",
    "lotto_waits = [day * 24 * 60 * 60 for day in lotto_days]\n",
    "wait_wait_table(lotto_df, lotto_waits).style.hide(axis=\"index\")"
   ]
  },
  {
   "cell_type": "code",
   "execution_count": 54,
   "metadata": {},
   "outputs": [
    {
     "data": {
      "text/html": [
       "<div>\n",
       "<style scoped>\n",
       "    .dataframe tbody tr th:only-of-type {\n",
       "        vertical-align: middle;\n",
       "    }\n",
       "\n",
       "    .dataframe tbody tr th {\n",
       "        vertical-align: top;\n",
       "    }\n",
       "\n",
       "    .dataframe thead th {\n",
       "        text-align: right;\n",
       "    }\n",
       "</style>\n",
       "<table border=\"1\" class=\"dataframe\">\n",
       "  <thead>\n",
       "    <tr style=\"text-align: right;\">\n",
       "      <th></th>\n",
       "      <th>Time Delta</th>\n",
       "    </tr>\n",
       "  </thead>\n",
       "  <tbody>\n",
       "    <tr>\n",
       "      <th>36770</th>\n",
       "      <td>1869 days</td>\n",
       "    </tr>\n",
       "    <tr>\n",
       "      <th>36771</th>\n",
       "      <td>1876 days</td>\n",
       "    </tr>\n",
       "    <tr>\n",
       "      <th>36772</th>\n",
       "      <td>2429 days</td>\n",
       "    </tr>\n",
       "  </tbody>\n",
       "</table>\n",
       "</div>"
      ],
      "text/plain": [
       "      Time Delta\n",
       "36770  1869 days\n",
       "36771  1876 days\n",
       "36772  2429 days"
      ]
     },
     "execution_count": 54,
     "metadata": {},
     "output_type": "execute_result"
    }
   ],
   "source": [
    "lotto_df[lotto_df[\"Time Delta\"] > pd.to_timedelta(24*60*60 * 365.25 * 5, unit=\"s\")]"
   ]
  },
  {
   "cell_type": "code",
   "execution_count": 75,
   "metadata": {},
   "outputs": [
    {
     "data": {
      "text/html": [
       "<style type=\"text/css\">\n",
       "</style>\n",
       "<table id=\"T_a5fd4\">\n",
       "  <thead>\n",
       "    <tr>\n",
       "      <th id=\"T_a5fd4_level0_col0\" class=\"col_heading level0 col0\" >Wait So Far</th>\n",
       "      <th id=\"T_a5fd4_level0_col1\" class=\"col_heading level0 col1\" >Median Additional Wait</th>\n",
       "    </tr>\n",
       "  </thead>\n",
       "  <tbody>\n",
       "    <tr>\n",
       "      <td id=\"T_a5fd4_row0_col0\" class=\"data row0 col0\" ><1s</td>\n",
       "      <td id=\"T_a5fd4_row0_col1\" class=\"data row0 col1\" >133d</td>\n",
       "    </tr>\n",
       "    <tr>\n",
       "      <td id=\"T_a5fd4_row1_col0\" class=\"data row1 col0\" >7d</td>\n",
       "      <td id=\"T_a5fd4_row1_col1\" class=\"data row1 col1\" >126d</td>\n",
       "    </tr>\n",
       "    <tr>\n",
       "      <td id=\"T_a5fd4_row2_col0\" class=\"data row2 col0\" >7d 1s</td>\n",
       "      <td id=\"T_a5fd4_row2_col1\" class=\"data row2 col1\" >132d 23h 59m 59s</td>\n",
       "    </tr>\n",
       "    <tr>\n",
       "      <td id=\"T_a5fd4_row3_col0\" class=\"data row3 col0\" >14d</td>\n",
       "      <td id=\"T_a5fd4_row3_col1\" class=\"data row3 col1\" >126d</td>\n",
       "    </tr>\n",
       "    <tr>\n",
       "      <td id=\"T_a5fd4_row4_col0\" class=\"data row4 col0\" >28d</td>\n",
       "      <td id=\"T_a5fd4_row4_col1\" class=\"data row4 col1\" >126d</td>\n",
       "    </tr>\n",
       "    <tr>\n",
       "      <td id=\"T_a5fd4_row5_col0\" class=\"data row5 col0\" >183d</td>\n",
       "      <td id=\"T_a5fd4_row5_col1\" class=\"data row5 col1\" >125d</td>\n",
       "    </tr>\n",
       "    <tr>\n",
       "      <td id=\"T_a5fd4_row6_col0\" class=\"data row6 col0\" >1y</td>\n",
       "      <td id=\"T_a5fd4_row6_col1\" class=\"data row6 col1\" >131d 18h</td>\n",
       "    </tr>\n",
       "    <tr>\n",
       "      <td id=\"T_a5fd4_row7_col0\" class=\"data row7 col0\" >2y</td>\n",
       "      <td id=\"T_a5fd4_row7_col1\" class=\"data row7 col1\" >130d 12h</td>\n",
       "    </tr>\n",
       "    <tr>\n",
       "      <td id=\"T_a5fd4_row8_col0\" class=\"data row8 col0\" >5y</td>\n",
       "      <td id=\"T_a5fd4_row8_col1\" class=\"data row8 col1\" >49d 18h</td>\n",
       "    </tr>\n",
       "  </tbody>\n",
       "</table>\n"
      ],
      "text/plain": [
       "<pandas.io.formats.style.Styler at 0x157d697de10>"
      ]
     },
     "execution_count": 75,
     "metadata": {},
     "output_type": "execute_result"
    }
   ],
   "source": [
    "seed = 0\n",
    "rng = np.random.default_rng(seed)\n",
    "\n",
    "lotto_resample = pd.DataFrame()\n",
    "lotto_resample['Time Delta'] = lotto_df['Time Delta'].sample(n=100_000, replace=True, random_state=rng)\n",
    "wait_wait_table(lotto_resample, lotto_waits).style.hide(axis=\"index\")\n"
   ]
  },
  {
   "cell_type": "code",
   "execution_count": 72,
   "metadata": {},
   "outputs": [
    {
     "data": {
      "text/html": [
       "<div>\n",
       "<style scoped>\n",
       "    .dataframe tbody tr th:only-of-type {\n",
       "        vertical-align: middle;\n",
       "    }\n",
       "\n",
       "    .dataframe tbody tr th {\n",
       "        vertical-align: top;\n",
       "    }\n",
       "\n",
       "    .dataframe thead th {\n",
       "        text-align: right;\n",
       "    }\n",
       "</style>\n",
       "<table border=\"1\" class=\"dataframe\">\n",
       "  <thead>\n",
       "    <tr style=\"text-align: right;\">\n",
       "      <th></th>\n",
       "      <th>Time Delta</th>\n",
       "      <th>CDF</th>\n",
       "    </tr>\n",
       "  </thead>\n",
       "  <tbody>\n",
       "    <tr>\n",
       "      <th>0</th>\n",
       "      <td>7 days</td>\n",
       "      <td>0.018166</td>\n",
       "    </tr>\n",
       "    <tr>\n",
       "      <th>1</th>\n",
       "      <td>7 days</td>\n",
       "      <td>0.018166</td>\n",
       "    </tr>\n",
       "    <tr>\n",
       "      <th>2</th>\n",
       "      <td>7 days</td>\n",
       "      <td>0.018166</td>\n",
       "    </tr>\n",
       "    <tr>\n",
       "      <th>3</th>\n",
       "      <td>7 days</td>\n",
       "      <td>0.018166</td>\n",
       "    </tr>\n",
       "    <tr>\n",
       "      <th>4</th>\n",
       "      <td>7 days</td>\n",
       "      <td>0.018166</td>\n",
       "    </tr>\n",
       "    <tr>\n",
       "      <th>...</th>\n",
       "      <td>...</td>\n",
       "      <td>...</td>\n",
       "    </tr>\n",
       "    <tr>\n",
       "      <th>36768</th>\n",
       "      <td>1799 days</td>\n",
       "      <td>0.999891</td>\n",
       "    </tr>\n",
       "    <tr>\n",
       "      <th>36769</th>\n",
       "      <td>1820 days</td>\n",
       "      <td>0.999918</td>\n",
       "    </tr>\n",
       "    <tr>\n",
       "      <th>36770</th>\n",
       "      <td>1869 days</td>\n",
       "      <td>0.999946</td>\n",
       "    </tr>\n",
       "    <tr>\n",
       "      <th>36771</th>\n",
       "      <td>1876 days</td>\n",
       "      <td>0.999973</td>\n",
       "    </tr>\n",
       "    <tr>\n",
       "      <th>36772</th>\n",
       "      <td>2429 days</td>\n",
       "      <td>1.000000</td>\n",
       "    </tr>\n",
       "  </tbody>\n",
       "</table>\n",
       "<p>36773 rows × 2 columns</p>\n",
       "</div>"
      ],
      "text/plain": [
       "      Time Delta       CDF\n",
       "0         7 days  0.018166\n",
       "1         7 days  0.018166\n",
       "2         7 days  0.018166\n",
       "3         7 days  0.018166\n",
       "4         7 days  0.018166\n",
       "...          ...       ...\n",
       "36768  1799 days  0.999891\n",
       "36769  1820 days  0.999918\n",
       "36770  1869 days  0.999946\n",
       "36771  1876 days  0.999973\n",
       "36772  2429 days  1.000000\n",
       "\n",
       "[36773 rows x 2 columns]"
      ]
     },
     "execution_count": 72,
     "metadata": {},
     "output_type": "execute_result"
    }
   ],
   "source": [
    "\n",
    "lotto_df['CDF'] = lotto_df['Time Delta'].rank(pct=True)\n",
    "lotto_df"
   ]
  },
  {
   "cell_type": "code",
   "execution_count": 63,
   "metadata": {},
   "outputs": [
    {
     "data": {
      "image/png": "[encoded data removed]",
      "text/plain": [
       "<Figure size 640x480 with 1 Axes>"
      ]
     },
     "metadata": {},
     "output_type": "display_data"
    }
   ],
   "source": [
    "import matplotlib.pyplot as plt\n",
    "\n",
    "def wait_cdf(title, sorted_df, wait_ticks, left=None, right=None, xscale='linear'):\n",
    "    wait_seconds = sorted_df['Time Delta'].dt.total_seconds() # x values\n",
    "    cdf = sorted_df['CDF'] # y values\n",
    "\n",
    "    plt.title(title + ' Cumulative Distribution Function (CDF)')\n",
    "    plt.plot(wait_seconds, cdf, marker='.', linestyle=\" \")\n",
    "    plt.xlabel('Wait')\n",
    "    plt.ylabel('CDF')\n",
    "    plt.xscale(xscale)\n",
    "    plt.xticks(wait_ticks, [seconds_to_text(wait_tick) for wait_tick in wait_ticks], rotation=45)\n",
    "    plt.xlim(left=left or wait_seconds.min(), right=right or wait_seconds.max())\n",
    "    plt.grid(True, which=\"both\", ls=\"--\")\n",
    "    plt.show()\n",
    "\n",
    "wait_cdf(\"Lotto\", lotto_df, wiki_wait_ticks, xscale='log')\n",
    "# wait_cdf(\"Wikipedia Edits\", wiki_df, wiki_wait_ticks, loc=30, xscale='log', left=30)\n",
    "# wait_cdf(\"Popcorn\", popcorn_df, popcorn_ticks, loc=0, left=3*60, right=7*60)"
   ]
  },
  {
   "cell_type": "code",
   "execution_count": 95,
   "metadata": {},
   "outputs": [
    {
     "data": {
      "text/plain": [
       "'ExponentialDistribution(loc=3d 12h, scale=186d 20h 21m)'"
      ]
     },
     "execution_count": 95,
     "metadata": {},
     "output_type": "execute_result"
    }
   ],
   "source": [
    "from scipy.stats import expon\n",
    "\n",
    "wait_seconds = lotto_df['Time Delta'].dt.total_seconds()\n",
    "loc, scale = expon.fit(wait_seconds,  floc=3.5*24*60*60)\n",
    "lotto_expon_dist = expon(loc=loc, scale=scale)\n",
    "lotto_expon_label = f'ExponentialDistribution(loc={seconds_to_text(loc)}, scale={seconds_to_text(scale)})'\n",
    "lotto_expon_label\n",
    "\n",
    "# seed = 0\n",
    "# rng = np.random.default_rng(seed)\n",
    "# lotto_expon = pd.DataFrame()\n",
    "# lotto_expon['Time Delta'] = pd.to_timedelta(expon_dist.rvs(size=100_000, random_state=rng), unit=\"s\")\n",
    "# wait_wait_table(lotto_expon, lotto_waits).style.hide(axis=\"index\")"
   ]
  },
  {
   "cell_type": "code",
   "execution_count": 97,
   "metadata": {},
   "outputs": [
    {
     "data": {
      "image/png": "[encoded data removed]",
      "text/plain": [
       "<Figure size 1000x600 with 1 Axes>"
      ]
     },
     "metadata": {},
     "output_type": "display_data"
    }
   ],
   "source": [
    "import matplotlib.pyplot as plt\n",
    "\n",
    "def wait_cdf(title, sorted_df, wait_ticks, dist=None, dist_label=None, left=None, right=None, xscale='linear'):\n",
    "    wait_seconds = sorted_df['Time Delta'].dt.total_seconds() # x values\n",
    "    cdf = sorted_df['CDF'] # y values\n",
    "\n",
    "    left = left or wait_seconds.min()\n",
    "    right = right or wait_seconds.max()\n",
    "\n",
    "    plt.figure(figsize=(10, 6))\n",
    "    plt.title(title + ' Cumulative Distribution Function (CDF)')\n",
    "    plt.plot(wait_seconds, cdf, marker='.', linestyle=\" \", label='Empirical CDF')\n",
    "\n",
    "    if dist is not None:\n",
    "        dist_x = np.logspace(np.log10(left), np.log10(right), 100) if xscale == 'log' else np.linspace(left, right, 100)\n",
    "        dist_y = dist.cdf(dist_x)\n",
    "        plt.plot(dist_x, dist_y, label = dist_label)\n",
    "\n",
    "    plt.xlabel('Wait')\n",
    "    plt.ylabel('CDF')\n",
    "    plt.xscale(xscale)\n",
    "    plt.xticks(wait_ticks, [seconds_to_text(wait_tick) for wait_tick in wait_ticks], rotation=45)\n",
    "    plt.xlim(left=left, right=right)\n",
    "    plt.grid(True, which=\"both\", ls=\"--\")\n",
    "    plt.legend(loc='upper left')\n",
    "    plt.show()\n",
    "\n",
    "wait_cdf(\"Lotto\", lotto_df, wiki_wait_ticks, dist=lotto_expon_dist, dist_label=lotto_expon_label, xscale='log')\n"
   ]
  },
  {
   "cell_type": "code",
   "execution_count": 89,
   "metadata": {},
   "outputs": [
    {
     "ename": "TypeError",
     "evalue": "wait_cdf() got an unexpected keyword argument 'loc'",
     "output_type": "error",
     "traceback": [
      "\u001b[1;31m---------------------------------------------------------------------------\u001b[0m",
      "\u001b[1;31mTypeError\u001b[0m                                 Traceback (most recent call last)",
      "Cell \u001b[1;32mIn[89], line 45\u001b[0m\n\u001b[0;32m     42\u001b[0m     plt\u001b[38;5;241m.\u001b[39mlegend(loc\u001b[38;5;241m=\u001b[39m\u001b[38;5;124m'\u001b[39m\u001b[38;5;124mupper left\u001b[39m\u001b[38;5;124m'\u001b[39m)\n\u001b[0;32m     43\u001b[0m     plt\u001b[38;5;241m.\u001b[39mshow()\n\u001b[1;32m---> 45\u001b[0m \u001b[43mwait_cdf\u001b[49m\u001b[43m(\u001b[49m\u001b[38;5;124;43m\"\u001b[39;49m\u001b[38;5;124;43mLotto\u001b[39;49m\u001b[38;5;124;43m\"\u001b[39;49m\u001b[43m,\u001b[49m\u001b[43m \u001b[49m\u001b[43mlotto_df\u001b[49m\u001b[43m,\u001b[49m\u001b[43m \u001b[49m\u001b[43mwiki_wait_ticks\u001b[49m\u001b[43m,\u001b[49m\u001b[43m \u001b[49m\u001b[43mloc\u001b[49m\u001b[38;5;241;43m=\u001b[39;49m\u001b[38;5;241;43m7\u001b[39;49m\u001b[38;5;241;43m*\u001b[39;49m\u001b[38;5;241;43m24\u001b[39;49m\u001b[38;5;241;43m*\u001b[39;49m\u001b[38;5;241;43m60\u001b[39;49m\u001b[38;5;241;43m*\u001b[39;49m\u001b[38;5;241;43m60\u001b[39;49m\u001b[38;5;241;43m/\u001b[39;49m\u001b[38;5;241;43m2\u001b[39;49m\u001b[43m,\u001b[49m\u001b[43m \u001b[49m\u001b[43mxscale\u001b[49m\u001b[38;5;241;43m=\u001b[39;49m\u001b[38;5;124;43m'\u001b[39;49m\u001b[38;5;124;43mlog\u001b[39;49m\u001b[38;5;124;43m'\u001b[39;49m\u001b[43m)\u001b[49m\n\u001b[0;32m     46\u001b[0m wait_cdf(\u001b[38;5;124m\"\u001b[39m\u001b[38;5;124mWikipedia Edits\u001b[39m\u001b[38;5;124m\"\u001b[39m, wiki_df, wiki_wait_ticks, loc\u001b[38;5;241m=\u001b[39m\u001b[38;5;241m30\u001b[39m, xscale\u001b[38;5;241m=\u001b[39m\u001b[38;5;124m'\u001b[39m\u001b[38;5;124mlog\u001b[39m\u001b[38;5;124m'\u001b[39m)\n\u001b[0;32m     47\u001b[0m wait_cdf(\u001b[38;5;124m\"\u001b[39m\u001b[38;5;124mPopcorn\u001b[39m\u001b[38;5;124m\"\u001b[39m, popcorn_df, popcorn_ticks, loc\u001b[38;5;241m=\u001b[39m\u001b[38;5;241m0\u001b[39m, left\u001b[38;5;241m=\u001b[39m\u001b[38;5;241m3\u001b[39m\u001b[38;5;241m*\u001b[39m\u001b[38;5;241m60\u001b[39m, right\u001b[38;5;241m=\u001b[39m\u001b[38;5;241m7\u001b[39m\u001b[38;5;241m*\u001b[39m\u001b[38;5;241m60\u001b[39m)\n",
      "\u001b[1;31mTypeError\u001b[0m: wait_cdf() got an unexpected keyword argument 'loc'"
     ]
    }
   ],
   "source": [
    "from scipy.stats import expon, weibull_min\n",
    "import matplotlib.pyplot as plt\n",
    "\n",
    "def wait_cdf(title, sorted_df, wait_ticks, left=None, right=None, xscale='linear'):\n",
    "    sorted_wait_series = sorted_df['Time Delta']\n",
    "    wait_seconds = sorted_wait_series.dt.total_seconds()\n",
    "    wait_seconds = np.maximum(wait_seconds,30)\n",
    "    empirical_cdf = sorted_wait_series.rank(method='average', pct=True)  # This computes the rank as a percentage\n",
    "\n",
    "    # plot the empirical CDF on a log scale\n",
    "    plt.figure(figsize=(10, 6))\n",
    "    plt.plot(wait_seconds, empirical_cdf, marker='o', linestyle=None, label='Wait Data')\n",
    "    plt.xlabel('Time Delta')\n",
    "    plt.ylabel('CDF')\n",
    "    plt.title(title + ' CDF of Time Deltas with Logarithmic X-Axis')\n",
    "    plt.xscale(xscale)\n",
    "    plt.yticks(np.arange(0, 1.1, 0.1))\n",
    "    wait_tick_labels = [seconds_to_text(wait_tick) for wait_tick in wait_ticks]\n",
    "    plt.xticks(wait_ticks, wait_tick_labels, rotation=45)\n",
    "    left = left or wait_seconds.min()\n",
    "    right = right or wait_seconds.max()\n",
    "    print(left, right)\n",
    "    plt.xlim(left=left, right=right)\n",
    "    plt.grid(True, which=\"both\", ls=\"--\")\n",
    "\n",
    "    # fit an exponential distribution to the data\n",
    "    loc, scale = expon.fit(wait_seconds,  floc=loc)\n",
    "    expon_dist = expon(loc=loc, scale=scale)\n",
    "    # plot the exponential CDF\n",
    "    dense_ticks = np.logspace(np.log10(left), np.log10(right), 100)\n",
    "    expon_cdf_values = expon_dist.cdf(dense_ticks)\n",
    "    plt.plot(dense_ticks, expon_cdf_values, label=f'Exponential(loc={seconds_to_text(loc)}, scale={seconds_to_text(scale)})')\n",
    "\n",
    "    # fit a weibull distribution to the data\n",
    "    shape, loc, scale = weibull_min.fit(wait_seconds, floc=loc)\n",
    "    weibull_dist = weibull_min(c=shape, loc=loc, scale=scale)\n",
    "    # plot the weibull CDF\n",
    "    weibull_cdf_values = weibull_dist.cdf(dense_ticks)\n",
    "    plt.plot(dense_ticks, weibull_cdf_values, label=f'Weibull(shape={shape:.4}, loc={seconds_to_text(loc)}, scale={seconds_to_text(scale)})')\n",
    "\n",
    "\n",
    "    plt.legend(loc='upper left')\n",
    "    plt.show()\n",
    "\n",
    "wait_cdf(\"Lotto\", lotto_df, wiki_wait_ticks, loc=7*24*60*60/2, xscale='log')\n",
    "wait_cdf(\"Wikipedia Edits\", wiki_df, wiki_wait_ticks, loc=30, xscale='log')\n",
    "wait_cdf(\"Popcorn\", popcorn_df, popcorn_ticks, loc=0, left=3*60, right=7*60)"
   ]
  },
  {
   "cell_type": "code",
   "execution_count": null,
   "metadata": {},
   "outputs": [],
   "source": [
    "wait_cdf(wiki_df, wiki_wait_ticks)"
   ]
  },
  {
   "cell_type": "code",
   "execution_count": null,
   "metadata": {},
   "outputs": [],
   "source": [
    "sorted_wait_series = lotto_waits.clip(lower=30) # for the plot, call 0 values 30 seconds\n",
    "plt.figure(figsize=(10, 6))\n",
    "plt.plot(sorted_wait_series, cdf, marker='.', linestyle='-')\n",
    "plt.xlabel('Time Delta')\n",
    "plt.ylabel('CDF')\n",
    "plt.title('CDF of Time Deltas with Logarithmic X-Axis')\n",
    "plt.xscale('log')\n",
    "plt.yticks(np.arange(0, 1.1, 0.1))\n",
    "plt.xticks(wiki_wait_ticks, wait_tick_labels, rotation=45)\n",
    "plt.grid(True, which=\"both\", ls=\"--\")\n",
    "plt.show()\n"
   ]
  },
  {
   "cell_type": "code",
   "execution_count": 87,
   "metadata": {},
   "outputs": [
    {
     "data": {
      "text/plain": [
       "'4h 30m'"
      ]
     },
     "execution_count": 87,
     "metadata": {},
     "output_type": "execute_result"
    }
   ],
   "source": [
    "seconds_to_text(3600*4.5)"
   ]
  },
  {
   "cell_type": "code",
   "execution_count": null,
   "metadata": {},
   "outputs": [],
   "source": []
  }
 ],
 "metadata": {
  "kernelspec": {
   "display_name": "Python 3",
   "language": "python",
   "name": "python3"
  },
  "language_info": {
   "codemirror_mode": {
    "name": "ipython",
    "version": 3
   },
   "file_extension": ".py",
   "mimetype": "text/x-python",
   "name": "python",
   "nbconvert_exporter": "python",
   "pygments_lexer": "ipython3",
   "version": "3.11.7"
  }
 },
 "nbformat": 4,
 "nbformat_minor": 2
}
